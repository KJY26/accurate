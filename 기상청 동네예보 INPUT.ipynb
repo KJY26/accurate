{
 "cells": [
  {
   "cell_type": "code",
   "execution_count": 19,
   "id": "f90918d1",
   "metadata": {},
   "outputs": [
    {
     "name": "stdout",
     "output_type": "stream",
     "text": [
      "한 시간전 기상 데이터를 받아옵니다.\n",
      "202207100-100\n",
      "<class 'str'>\n"
     ]
    },
    {
     "ename": "ValueError",
     "evalue": "Excel file format cannot be determined, you must specify an engine manually.",
     "output_type": "error",
     "traceback": [
      "\u001b[1;31m---------------------------------------------------------------------------\u001b[0m",
      "\u001b[1;31mValueError\u001b[0m                                Traceback (most recent call last)",
      "Input \u001b[1;32mIn [19]\u001b[0m, in \u001b[0;36m<cell line: 57>\u001b[1;34m()\u001b[0m\n\u001b[0;32m     55\u001b[0m f\u001b[38;5;241m.\u001b[39mclose()\n\u001b[0;32m     56\u001b[0m \u001b[38;5;66;03m#Initial Database\u001b[39;00m\n\u001b[1;32m---> 57\u001b[0m db \u001b[38;5;241m=\u001b[39m \u001b[43mpd\u001b[49m\u001b[38;5;241;43m.\u001b[39;49m\u001b[43mread_excel\u001b[49m\u001b[43m(\u001b[49m\u001b[38;5;124;43m'\u001b[39;49m\u001b[38;5;124;43mWeatherReport/database.xlsx\u001b[39;49m\u001b[38;5;124;43m'\u001b[39;49m\u001b[43m)\u001b[49m\n\u001b[0;32m     58\u001b[0m \u001b[38;5;28mprint\u001b[39m(db)\n\u001b[0;32m     59\u001b[0m db\u001b[38;5;241m.\u001b[39mto_csv(\u001b[38;5;124m'\u001b[39m\u001b[38;5;124mWeatherReport/database.xlsx\u001b[39m\u001b[38;5;124m'\u001b[39m)\n",
      "File \u001b[1;32mC:\\ProgramData\\Anaconda3\\lib\\site-packages\\pandas\\util\\_decorators.py:311\u001b[0m, in \u001b[0;36mdeprecate_nonkeyword_arguments.<locals>.decorate.<locals>.wrapper\u001b[1;34m(*args, **kwargs)\u001b[0m\n\u001b[0;32m    305\u001b[0m \u001b[38;5;28;01mif\u001b[39;00m \u001b[38;5;28mlen\u001b[39m(args) \u001b[38;5;241m>\u001b[39m num_allow_args:\n\u001b[0;32m    306\u001b[0m     warnings\u001b[38;5;241m.\u001b[39mwarn(\n\u001b[0;32m    307\u001b[0m         msg\u001b[38;5;241m.\u001b[39mformat(arguments\u001b[38;5;241m=\u001b[39marguments),\n\u001b[0;32m    308\u001b[0m         \u001b[38;5;167;01mFutureWarning\u001b[39;00m,\n\u001b[0;32m    309\u001b[0m         stacklevel\u001b[38;5;241m=\u001b[39mstacklevel,\n\u001b[0;32m    310\u001b[0m     )\n\u001b[1;32m--> 311\u001b[0m \u001b[38;5;28;01mreturn\u001b[39;00m func(\u001b[38;5;241m*\u001b[39margs, \u001b[38;5;241m*\u001b[39m\u001b[38;5;241m*\u001b[39mkwargs)\n",
      "File \u001b[1;32mC:\\ProgramData\\Anaconda3\\lib\\site-packages\\pandas\\io\\excel\\_base.py:457\u001b[0m, in \u001b[0;36mread_excel\u001b[1;34m(io, sheet_name, header, names, index_col, usecols, squeeze, dtype, engine, converters, true_values, false_values, skiprows, nrows, na_values, keep_default_na, na_filter, verbose, parse_dates, date_parser, thousands, decimal, comment, skipfooter, convert_float, mangle_dupe_cols, storage_options)\u001b[0m\n\u001b[0;32m    455\u001b[0m \u001b[38;5;28;01mif\u001b[39;00m \u001b[38;5;129;01mnot\u001b[39;00m \u001b[38;5;28misinstance\u001b[39m(io, ExcelFile):\n\u001b[0;32m    456\u001b[0m     should_close \u001b[38;5;241m=\u001b[39m \u001b[38;5;28;01mTrue\u001b[39;00m\n\u001b[1;32m--> 457\u001b[0m     io \u001b[38;5;241m=\u001b[39m \u001b[43mExcelFile\u001b[49m\u001b[43m(\u001b[49m\u001b[43mio\u001b[49m\u001b[43m,\u001b[49m\u001b[43m \u001b[49m\u001b[43mstorage_options\u001b[49m\u001b[38;5;241;43m=\u001b[39;49m\u001b[43mstorage_options\u001b[49m\u001b[43m,\u001b[49m\u001b[43m \u001b[49m\u001b[43mengine\u001b[49m\u001b[38;5;241;43m=\u001b[39;49m\u001b[43mengine\u001b[49m\u001b[43m)\u001b[49m\n\u001b[0;32m    458\u001b[0m \u001b[38;5;28;01melif\u001b[39;00m engine \u001b[38;5;129;01mand\u001b[39;00m engine \u001b[38;5;241m!=\u001b[39m io\u001b[38;5;241m.\u001b[39mengine:\n\u001b[0;32m    459\u001b[0m     \u001b[38;5;28;01mraise\u001b[39;00m \u001b[38;5;167;01mValueError\u001b[39;00m(\n\u001b[0;32m    460\u001b[0m         \u001b[38;5;124m\"\u001b[39m\u001b[38;5;124mEngine should not be specified when passing \u001b[39m\u001b[38;5;124m\"\u001b[39m\n\u001b[0;32m    461\u001b[0m         \u001b[38;5;124m\"\u001b[39m\u001b[38;5;124man ExcelFile - ExcelFile already has the engine set\u001b[39m\u001b[38;5;124m\"\u001b[39m\n\u001b[0;32m    462\u001b[0m     )\n",
      "File \u001b[1;32mC:\\ProgramData\\Anaconda3\\lib\\site-packages\\pandas\\io\\excel\\_base.py:1380\u001b[0m, in \u001b[0;36mExcelFile.__init__\u001b[1;34m(self, path_or_buffer, engine, storage_options)\u001b[0m\n\u001b[0;32m   1376\u001b[0m     ext \u001b[38;5;241m=\u001b[39m inspect_excel_format(\n\u001b[0;32m   1377\u001b[0m         content_or_path\u001b[38;5;241m=\u001b[39mpath_or_buffer, storage_options\u001b[38;5;241m=\u001b[39mstorage_options\n\u001b[0;32m   1378\u001b[0m     )\n\u001b[0;32m   1379\u001b[0m     \u001b[38;5;28;01mif\u001b[39;00m ext \u001b[38;5;129;01mis\u001b[39;00m \u001b[38;5;28;01mNone\u001b[39;00m:\n\u001b[1;32m-> 1380\u001b[0m         \u001b[38;5;28;01mraise\u001b[39;00m \u001b[38;5;167;01mValueError\u001b[39;00m(\n\u001b[0;32m   1381\u001b[0m             \u001b[38;5;124m\"\u001b[39m\u001b[38;5;124mExcel file format cannot be determined, you must specify \u001b[39m\u001b[38;5;124m\"\u001b[39m\n\u001b[0;32m   1382\u001b[0m             \u001b[38;5;124m\"\u001b[39m\u001b[38;5;124man engine manually.\u001b[39m\u001b[38;5;124m\"\u001b[39m\n\u001b[0;32m   1383\u001b[0m         )\n\u001b[0;32m   1385\u001b[0m engine \u001b[38;5;241m=\u001b[39m config\u001b[38;5;241m.\u001b[39mget_option(\u001b[38;5;124mf\u001b[39m\u001b[38;5;124m\"\u001b[39m\u001b[38;5;124mio.excel.\u001b[39m\u001b[38;5;132;01m{\u001b[39;00mext\u001b[38;5;132;01m}\u001b[39;00m\u001b[38;5;124m.reader\u001b[39m\u001b[38;5;124m\"\u001b[39m, silent\u001b[38;5;241m=\u001b[39m\u001b[38;5;28;01mTrue\u001b[39;00m)\n\u001b[0;32m   1386\u001b[0m \u001b[38;5;28;01mif\u001b[39;00m engine \u001b[38;5;241m==\u001b[39m \u001b[38;5;124m\"\u001b[39m\u001b[38;5;124mauto\u001b[39m\u001b[38;5;124m\"\u001b[39m:\n",
      "\u001b[1;31mValueError\u001b[0m: Excel file format cannot be determined, you must specify an engine manually."
     ]
    }
   ],
   "source": [
    "#인터넷 리퀘스트 계열\n",
    "import requests\n",
    "import urllib.request\n",
    "#시간 계열\n",
    "import datetime\n",
    "import ntplib\n",
    "from time import ctime\n",
    "#파싱 계열\n",
    "import xml.etree.ElementTree as et\n",
    "#데이터베이스 계열\n",
    "import pandas as pd\n",
    "#Get Local Time from Time Server\n",
    "print(\"한 시간전 기상 데이터를 받아옵니다.\")\n",
    "timeServer = 'time.windows.com'\n",
    "c = ntplib.NTPClient()\n",
    "response = c.request(timeServer, version=3)\n",
    "now=ctime(response.tx_time)\n",
    "now=datetime.datetime.strptime(now, '%a %b  %d %H:%M:%S %Y')\n",
    "year=now.strftime(\"%Y\")\n",
    "month=now.strftime(\"%m\")\n",
    "day=now.strftime(\"%d\")\n",
    "hour=now.strftime(\"%H\")\n",
    "minute=now.strftime(\"%M\")\n",
    "second=now.strftime(\"%S\")\n",
    "#필수 Parameter 설정\n",
    "base_date=year+month+day\n",
    "temp_h=int(hour)\n",
    "temp_h-=1;\n",
    "if temp_h<10 :\n",
    "    hour='0'+str(temp_h)\n",
    "else : hour=str(temp_h)\n",
    "base_time=hour+'00'\n",
    "print(base_date+base_time)\n",
    "#지역정보 : kor 1168058000 서울특별시 강남구 삼성1동 nx=61 ny=125 (경기고등학교)\n",
    "#Get Weather Info\n",
    "url = 'http://apis.data.go.kr/1360000/VilageFcstInfoService_2.0/getUltraSrtNcst'\n",
    "params ={'serviceKey' : 'DyvMF7VeSRafi8aP+n1F7Ae1dXIbqVGeUuPhMxUCBeTh40qeBxY05uAzqAH0FOwX+j0TZG2lGKxMagGJ6I0NAQ==',\n",
    "         'pageNo' : '1',\n",
    "         'numOfRows' : '1000',\n",
    "         'dataType' : 'XML',\n",
    "         #'base_date' : base_date,\n",
    "         'base_date' : '20220709',\n",
    "         #'base_time' : base_time,\n",
    "         'base_time' : '1700',\n",
    "         'nx' : '61',\n",
    "         'ny' : '125' }\n",
    "\n",
    "response = requests.get(url, params=params)\n",
    "str_response=response.content.decode('utf-8')\n",
    "print(type(str_response))\n",
    "#Write File\n",
    "vcs_filename=year+month+day+'-'+hour+'00'\n",
    "f = open(vcs_filename+\".xml\", 'w', encoding='UTF-8')\n",
    "f.write(str_response)\n",
    "f.close()\n",
    "#Initial Database\n",
    "db = pd.read_excel('WeatherReport/database.xlsx')\n",
    "print(db)\n",
    "db.to_csv('WeatherReport/database.xlsx')\n",
    "db\n",
    "#Parse File\n",
    "file = et.parse(\"report\"+\".xml\")\n",
    "root = file.getroot()\n",
    "data = root[1][1]\n",
    "result = open(\"WeatherReport/\"+vcs_filename+\".txt\", 'w', encoding='UTF-8')\n",
    "print()\n",
    "result.write(\"Date/time : \"+vcs_filename+\"\\n\")\n",
    "cnt = 0\n",
    "base_date_printed = 0\n",
    "base_time_printed = 0\n",
    "current_category='0'\n",
    "for child in data:\n",
    "    cnt = 0\n",
    "    for value in child:\n",
    "        #print(value.tag+value.text) #only for debugging\n",
    "        if value.tag == 'baseDate' and base_date_printed == 0:\n",
    "            result.write(\"정보갱신날짜 :\"+value.text+\"\\n\")\n",
    "            base_date_printed = 1\n",
    "        if value.tag == 'baseTime' and base_time_printed == 0:\n",
    "            result.write(\"정보갱신시간 :\"+value.text+\"\\n\")\n",
    "            base_time_printed = 1\n",
    "        if value.text == 'T1H' : \n",
    "            result.write(\"기온\")\n",
    "            current_category=value.text\n",
    "        if value.text == 'RN1' : \n",
    "            result.write(\"1시간 강수량\")\n",
    "            current_category=value.text\n",
    "        if value.text == 'UUU' : \n",
    "            result.write(\"동서바람성분\")\n",
    "            current_category=value.text\n",
    "        if value.text == 'VVV' : \n",
    "            result.write(\"남북바람성분\")\n",
    "            current_category=value.text\n",
    "        if value.text == 'REH' : \n",
    "            result.write(\"습도\")\n",
    "            current_category=value.text\n",
    "        if value.text == 'PTY' : \n",
    "            result.write(\"강수형태\")\n",
    "            current_category=value.text\n",
    "        if value.text == 'VEC' : \n",
    "            result.write(\"풍향\")\n",
    "            current_category=value.text\n",
    "        if value.text == 'WSD' : \n",
    "            result.write(\"풍속\")\n",
    "            current_category=value.text\n",
    "        end_sequence = 0\n",
    "        if value.tag == 'obsrValue' and  current_category == 'PTY' :\n",
    "            if value.text == '0' : result.write(': '+ '맑음')\n",
    "            if value.text == '1' : result.write(': '+ '비')\n",
    "            if value.text == '2' : result.write(': '+ '비/눈')\n",
    "            if value.text == '3' : result.write(': '+ '눈')\n",
    "            if value.text == '5' : result.write(': '+ '빗방울')\n",
    "            if value.text == '6' : result.write(': '+ '빗방울눈날림')\n",
    "            if value.text == '7' : result.write(': '+ '눈날림')\n",
    "            end_sequence = 1\n",
    "        if value.tag == 'obsrValue' and end_sequence == 0 : result.write(': '+value.text)\n",
    "    result.write(\"\\n\")\n",
    "    \n",
    "result.close()"
   ]
  },
  {
   "cell_type": "code",
   "execution_count": 2,
   "id": "d7a33384",
   "metadata": {
    "scrolled": true
   },
   "outputs": [
    {
     "name": "stdout",
     "output_type": "stream",
     "text": [
      "<class 'str'>\n",
      "2022/07/09 20:19:38\n"
     ]
    }
   ],
   "source": [
    "#time request using ntp\n",
    "#datetime 함수 이용 시간 가공\n",
    "import datetime\n",
    "import ntplib\n",
    "from time import ctime\n",
    "\n",
    "timeServer = 'time.windows.com'\n",
    "c = ntplib.NTPClient()\n",
    "response = c.request(timeServer, version=3)\n",
    "now=ctime(response.tx_time)\n",
    "now=datetime.datetime.strptime(now, '%a %b  %d %H:%M:%S %Y')\n",
    "year=now.strftime(\"%Y\")\n",
    "month=now.strftime(\"%m\")\n",
    "day=now.strftime(\"%d\")\n",
    "hour=now.strftime(\"%H\")\n",
    "minute=now.strftime(\"%M\")\n",
    "second=now.strftime(\"%S\")\n",
    "print(type(year))\n",
    "print(year,\"/\",month,\"/\",day,\" \",hour,\":\",minute,\":\",second,sep=\"\")"
   ]
  },
  {
   "cell_type": "code",
   "execution_count": 3,
   "id": "96fe6f96",
   "metadata": {},
   "outputs": [
    {
     "name": "stdout",
     "output_type": "stream",
     "text": [
      "[http://www.daum.net]의 서버시간\n",
      "2022년 07월 09일 11시 19분 42초\n"
     ]
    }
   ],
   "source": [
    "#time request using urllib\n",
    "import urllib.request\n",
    "month = {'Jan':'01', 'Feb':'02', 'Mar':'03', 'Apr':'04', 'May':'05', 'Jun':'06', \\\n",
    "    'Jul':'07', 'Aug':'08', 'Sep':'09', 'Oct':'10', 'Nov':'11', 'Dec':'12'}\n",
    "\n",
    "url = 'http://www.daum.net'\n",
    "date = urllib.request.urlopen(url).headers['Date'][5:-4]\n",
    "d, m, y, hour, min, sec = date[:2], month[date[3:6]], date[7:11], date[12:14], date[15:17], date[18:]\n",
    "print(f'[{url}]의 서버시간\\n{y}년 {m}월 {d}일 {hour}시 {min}분 {sec}초')\n",
    "#Archived"
   ]
  },
  {
   "cell_type": "code",
   "execution_count": 13,
   "id": "398f12d2",
   "metadata": {},
   "outputs": [
    {
     "name": "stdout",
     "output_type": "stream",
     "text": [
      "2022-07-08 10:55:56.572070\n"
     ]
    }
   ],
   "source": [
    "#Archived\n",
    "from datetime import datetime\n",
    "\n",
    "current_time = datetime.now()\n",
    "print(current_time)"
   ]
  },
  {
   "cell_type": "code",
   "execution_count": 6,
   "id": "e6706f2c",
   "metadata": {},
   "outputs": [
    {
     "name": "stdout",
     "output_type": "stream",
     "text": [
      "강수형태\n",
      "0\n",
      "\n",
      "습도\n",
      "75\n",
      "\n",
      "1시간 강수량\n",
      "0\n",
      "\n",
      "기온\n",
      "29.2\n",
      "\n",
      "동서바람성분\n",
      "1.2\n",
      "\n",
      "풍향\n",
      "275\n",
      "\n",
      "남북바람성분\n",
      "0\n",
      "\n",
      "풍속\n",
      "1.2\n",
      "\n"
     ]
    }
   ],
   "source": [
    "import requests\n",
    "import time\n",
    "import xml.etree.ElementTree as et\n",
    "\n",
    "def main():\n",
    "    local = time.localtime(time.time()-3600)\n",
    "\n",
    "    legend = ['강수형태','습도','1시간 강수량','기온','동서바람성분','풍향','남북바람성분','풍속']\n",
    "\n",
    "    url = 'http://apis.data.go.kr/1360000/VilageFcstInfoService_2.0/getUltraSrtNcst'\n",
    "    params = {'serviceKey': 'loGEsi8RLLPDoscN/+N/FQs4Gck/La0uzw51zooTczK3aWcmK6mvoHJ8tfF1uCtnKl2OdfmXYnz1QtEauhwWPA==','pageNo': '1', 'numOfRows': '1000', 'dataType': 'XML','base_date': str(local.tm_year).zfill(2) + str(local.tm_mon).zfill(2) + str(local.tm_mday).zfill(2),'base_time': str(local.tm_hour).zfill(2) + str(local.tm_min).zfill(2), 'nx': '61', 'ny': '126'}\n",
    "\n",
    "    response = requests.get(url, params=params)\n",
    "    text = response.text\n",
    "    fname = str(local.tm_year).zfill(2)+str(local.tm_mon).zfill(2)+str(local.tm_mday).zfill(2)+str(local.tm_hour).zfill(2)+str(local.tm_min).zfill(2)\n",
    "    f = open(\"report\"+\".xml\", 'w', encoding='UTF-8')\n",
    "    f.write(text)\n",
    "    f.close()\n",
    "\n",
    "    file = et.parse(\"report\"+\".xml\")\n",
    "    root = file.getroot()\n",
    "\n",
    "    try:\n",
    "        data = root[1][1]\n",
    "    except:\n",
    "        print(\"Error in data\")\n",
    "        exit()\n",
    "\n",
    "    result = open(\"results/\"+fname+\".txt\", 'w', encoding='UTF-8')\n",
    "\n",
    "    i = 0\n",
    "    for child in data:\n",
    "        result.write(legend[i]+'\\n')\n",
    "        print(legend[i])\n",
    "        print(child[5].text)\n",
    "        result.write(child[5].text + ' ' + \"\\n\")\n",
    "        result.write(\"\\n\")\n",
    "        print()\n",
    "        i=i+1\n",
    "\n",
    "    result.close()\n",
    "\n",
    "if __name__ == '__main__':\n",
    "    main()"
   ]
  },
  {
   "cell_type": "code",
   "execution_count": 16,
   "id": "b5085a13",
   "metadata": {},
   "outputs": [
    {
     "data": {
      "text/html": [
       "<div>\n",
       "<style scoped>\n",
       "    .dataframe tbody tr th:only-of-type {\n",
       "        vertical-align: middle;\n",
       "    }\n",
       "\n",
       "    .dataframe tbody tr th {\n",
       "        vertical-align: top;\n",
       "    }\n",
       "\n",
       "    .dataframe thead th {\n",
       "        text-align: right;\n",
       "    }\n",
       "</style>\n",
       "<table border=\"1\" class=\"dataframe\">\n",
       "  <thead>\n",
       "    <tr style=\"text-align: right;\">\n",
       "      <th></th>\n",
       "      <th>Date</th>\n",
       "      <th>Time</th>\n",
       "      <th>Humid</th>\n",
       "      <th>Rainfall</th>\n",
       "      <th>Temp</th>\n",
       "    </tr>\n",
       "  </thead>\n",
       "  <tbody>\n",
       "  </tbody>\n",
       "</table>\n",
       "</div>"
      ],
      "text/plain": [
       "Empty DataFrame\n",
       "Columns: [Date, Time, Humid, Rainfall, Temp]\n",
       "Index: []"
      ]
     },
     "execution_count": 16,
     "metadata": {},
     "output_type": "execute_result"
    }
   ],
   "source": [
    "db"
   ]
  },
  {
   "cell_type": "code",
   "execution_count": null,
   "id": "58a0c50e",
   "metadata": {},
   "outputs": [],
   "source": []
  }
 ],
 "metadata": {
  "kernelspec": {
   "display_name": "Python 3 (ipykernel)",
   "language": "python",
   "name": "python3"
  },
  "language_info": {
   "codemirror_mode": {
    "name": "ipython",
    "version": 3
   },
   "file_extension": ".py",
   "mimetype": "text/x-python",
   "name": "python",
   "nbconvert_exporter": "python",
   "pygments_lexer": "ipython3",
   "version": "3.9.12"
  }
 },
 "nbformat": 4,
 "nbformat_minor": 5
}
